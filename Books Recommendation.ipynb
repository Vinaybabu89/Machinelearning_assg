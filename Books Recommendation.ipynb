{
 "cells": [
  {
   "cell_type": "markdown",
   "metadata": {},
   "source": [
    "# Problem statement.\n",
    "\n",
    "Build a recommender system by using cosine simillarties score."
   ]
  },
  {
   "cell_type": "code",
   "execution_count": 1,
   "metadata": {},
   "outputs": [],
   "source": [
    "import pandas as pd\n",
    "import numpy as np\n",
    "import seaborn as sns\n",
    "import matplotlib.pyplot as plt"
   ]
  },
  {
   "cell_type": "code",
   "execution_count": 7,
   "metadata": {},
   "outputs": [
    {
     "data": {
      "text/plain": [
       "(10000, 3)"
      ]
     },
     "execution_count": 7,
     "metadata": {},
     "output_type": "execute_result"
    }
   ],
   "source": [
    "book=pd.read_csv(\"D:/Datasets/Bookrecm.csv\",encoding = \"ISO-8859-1\")\n",
    "book = book.loc[:, ~book.columns.str.contains('^Unnamed')]\n",
    "book.shape"
   ]
  },
  {
   "cell_type": "code",
   "execution_count": 10,
   "metadata": {},
   "outputs": [],
   "source": [
    "book=book.rename(columns={'User.ID':'UserID','Book.Title':'BookTitle','Book.Rating':'BookRating'})"
   ]
  },
  {
   "cell_type": "code",
   "execution_count": 12,
   "metadata": {},
   "outputs": [
    {
     "name": "stdout",
     "output_type": "stream",
     "text": [
      "<class 'pandas.core.frame.DataFrame'>\n",
      "RangeIndex: 10000 entries, 0 to 9999\n",
      "Data columns (total 3 columns):\n",
      "UserID        10000 non-null int64\n",
      "BookTitle     10000 non-null object\n",
      "BookRating    10000 non-null int64\n",
      "dtypes: int64(2), object(1)\n",
      "memory usage: 234.5+ KB\n"
     ]
    }
   ],
   "source": [
    "book.info()"
   ]
  },
  {
   "cell_type": "code",
   "execution_count": 13,
   "metadata": {},
   "outputs": [
    {
     "data": {
      "text/plain": [
       "UserID        0\n",
       "BookTitle     0\n",
       "BookRating    0\n",
       "dtype: int64"
      ]
     },
     "execution_count": 13,
     "metadata": {},
     "output_type": "execute_result"
    }
   ],
   "source": [
    "book.isnull().sum()"
   ]
  },
  {
   "cell_type": "code",
   "execution_count": 14,
   "metadata": {},
   "outputs": [
    {
     "data": {
      "text/plain": [
       "UserID        2182\n",
       "BookTitle     9659\n",
       "BookRating      10\n",
       "dtype: int64"
      ]
     },
     "execution_count": 14,
     "metadata": {},
     "output_type": "execute_result"
    }
   ],
   "source": [
    "book.nunique()"
   ]
  },
  {
   "cell_type": "code",
   "execution_count": 15,
   "metadata": {},
   "outputs": [
    {
     "data": {
      "text/plain": [
       "Fahrenheit 451                                                5\n",
       "Stardust                                                      4\n",
       "The Amber Spyglass (His Dark Materials, Book 3)               4\n",
       "Ender's Game (Ender Wiggins Saga (Paperback))                 4\n",
       "Vanished                                                      4\n",
       "                                                             ..\n",
       "Changer                                                       1\n",
       "The Book of Lights                                            1\n",
       "The Four Agreements: A Practical Guide to Personal Freedom    1\n",
       "Ediths Tagebuch.                                              1\n",
       "Photoshop 3 for Macintosh (Visual Quickstart Guide)           1\n",
       "Name: BookTitle, Length: 9659, dtype: int64"
      ]
     },
     "execution_count": 15,
     "metadata": {},
     "output_type": "execute_result"
    }
   ],
   "source": [
    "book['BookTitle'].value_counts()"
   ]
  },
  {
   "cell_type": "code",
   "execution_count": 62,
   "metadata": {},
   "outputs": [
    {
     "data": {
      "text/html": [
       "<div>\n",
       "<style scoped>\n",
       "    .dataframe tbody tr th:only-of-type {\n",
       "        vertical-align: middle;\n",
       "    }\n",
       "\n",
       "    .dataframe tbody tr th {\n",
       "        vertical-align: top;\n",
       "    }\n",
       "\n",
       "    .dataframe thead th {\n",
       "        text-align: right;\n",
       "    }\n",
       "</style>\n",
       "<table border=\"1\" class=\"dataframe\">\n",
       "  <thead>\n",
       "    <tr style=\"text-align: right;\">\n",
       "      <th></th>\n",
       "      <th>UserID</th>\n",
       "      <th>BookTitle</th>\n",
       "      <th>BookRating</th>\n",
       "      <th>RatingCount</th>\n",
       "    </tr>\n",
       "  </thead>\n",
       "  <tbody>\n",
       "    <tr>\n",
       "      <td>206</td>\n",
       "      <td>276875</td>\n",
       "      <td>Fahrenheit 451</td>\n",
       "      <td>2</td>\n",
       "      <td>5</td>\n",
       "    </tr>\n",
       "    <tr>\n",
       "      <td>207</td>\n",
       "      <td>278633</td>\n",
       "      <td>Fahrenheit 451</td>\n",
       "      <td>7</td>\n",
       "      <td>5</td>\n",
       "    </tr>\n",
       "    <tr>\n",
       "      <td>208</td>\n",
       "      <td>2442</td>\n",
       "      <td>Fahrenheit 451</td>\n",
       "      <td>10</td>\n",
       "      <td>5</td>\n",
       "    </tr>\n",
       "    <tr>\n",
       "      <td>209</td>\n",
       "      <td>4049</td>\n",
       "      <td>Fahrenheit 451</td>\n",
       "      <td>8</td>\n",
       "      <td>5</td>\n",
       "    </tr>\n",
       "    <tr>\n",
       "      <td>210</td>\n",
       "      <td>4207</td>\n",
       "      <td>Fahrenheit 451</td>\n",
       "      <td>8</td>\n",
       "      <td>5</td>\n",
       "    </tr>\n",
       "    <tr>\n",
       "      <td>4051</td>\n",
       "      <td>1348</td>\n",
       "      <td>Stardust</td>\n",
       "      <td>8</td>\n",
       "      <td>4</td>\n",
       "    </tr>\n",
       "    <tr>\n",
       "      <td>1047</td>\n",
       "      <td>278633</td>\n",
       "      <td>Ender's Game (Ender Wiggins Saga (Paperback))</td>\n",
       "      <td>5</td>\n",
       "      <td>4</td>\n",
       "    </tr>\n",
       "    <tr>\n",
       "      <td>1045</td>\n",
       "      <td>277527</td>\n",
       "      <td>Ender's Game (Ender Wiggins Saga (Paperback))</td>\n",
       "      <td>7</td>\n",
       "      <td>4</td>\n",
       "    </tr>\n",
       "    <tr>\n",
       "      <td>4052</td>\n",
       "      <td>1733</td>\n",
       "      <td>Stardust</td>\n",
       "      <td>8</td>\n",
       "      <td>4</td>\n",
       "    </tr>\n",
       "    <tr>\n",
       "      <td>4053</td>\n",
       "      <td>2576</td>\n",
       "      <td>Stardust</td>\n",
       "      <td>10</td>\n",
       "      <td>4</td>\n",
       "    </tr>\n",
       "    <tr>\n",
       "      <td>4054</td>\n",
       "      <td>160926</td>\n",
       "      <td>Stardust</td>\n",
       "      <td>8</td>\n",
       "      <td>4</td>\n",
       "    </tr>\n",
       "    <tr>\n",
       "      <td>701</td>\n",
       "      <td>2442</td>\n",
       "      <td>Vanished</td>\n",
       "      <td>5</td>\n",
       "      <td>4</td>\n",
       "    </tr>\n",
       "    <tr>\n",
       "      <td>1046</td>\n",
       "      <td>278418</td>\n",
       "      <td>Ender's Game (Ender Wiggins Saga (Paperback))</td>\n",
       "      <td>5</td>\n",
       "      <td>4</td>\n",
       "    </tr>\n",
       "    <tr>\n",
       "      <td>700</td>\n",
       "      <td>2355</td>\n",
       "      <td>Vanished</td>\n",
       "      <td>8</td>\n",
       "      <td>4</td>\n",
       "    </tr>\n",
       "    <tr>\n",
       "      <td>699</td>\n",
       "      <td>277284</td>\n",
       "      <td>Vanished</td>\n",
       "      <td>7</td>\n",
       "      <td>4</td>\n",
       "    </tr>\n",
       "    <tr>\n",
       "      <td>702</td>\n",
       "      <td>161234</td>\n",
       "      <td>Vanished</td>\n",
       "      <td>6</td>\n",
       "      <td>4</td>\n",
       "    </tr>\n",
       "    <tr>\n",
       "      <td>320</td>\n",
       "      <td>278221</td>\n",
       "      <td>The Amber Spyglass (His Dark Materials, Book 3)</td>\n",
       "      <td>10</td>\n",
       "      <td>4</td>\n",
       "    </tr>\n",
       "    <tr>\n",
       "      <td>6494</td>\n",
       "      <td>161619</td>\n",
       "      <td>Charlie and the Chocolate Factory</td>\n",
       "      <td>5</td>\n",
       "      <td>4</td>\n",
       "    </tr>\n",
       "    <tr>\n",
       "      <td>1048</td>\n",
       "      <td>596</td>\n",
       "      <td>Ender's Game (Ender Wiggins Saga (Paperback))</td>\n",
       "      <td>8</td>\n",
       "      <td>4</td>\n",
       "    </tr>\n",
       "    <tr>\n",
       "      <td>327</td>\n",
       "      <td>4017</td>\n",
       "      <td>The Subtle Knife (His Dark Materials, Book 2)</td>\n",
       "      <td>10</td>\n",
       "      <td>4</td>\n",
       "    </tr>\n",
       "  </tbody>\n",
       "</table>\n",
       "</div>"
      ],
      "text/plain": [
       "      UserID                                        BookTitle  BookRating  \\\n",
       "206   276875                                   Fahrenheit 451           2   \n",
       "207   278633                                   Fahrenheit 451           7   \n",
       "208     2442                                   Fahrenheit 451          10   \n",
       "209     4049                                   Fahrenheit 451           8   \n",
       "210     4207                                   Fahrenheit 451           8   \n",
       "4051    1348                                         Stardust           8   \n",
       "1047  278633    Ender's Game (Ender Wiggins Saga (Paperback))           5   \n",
       "1045  277527    Ender's Game (Ender Wiggins Saga (Paperback))           7   \n",
       "4052    1733                                         Stardust           8   \n",
       "4053    2576                                         Stardust          10   \n",
       "4054  160926                                         Stardust           8   \n",
       "701     2442                                         Vanished           5   \n",
       "1046  278418    Ender's Game (Ender Wiggins Saga (Paperback))           5   \n",
       "700     2355                                         Vanished           8   \n",
       "699   277284                                         Vanished           7   \n",
       "702   161234                                         Vanished           6   \n",
       "320   278221  The Amber Spyglass (His Dark Materials, Book 3)          10   \n",
       "6494  161619                Charlie and the Chocolate Factory           5   \n",
       "1048     596    Ender's Game (Ender Wiggins Saga (Paperback))           8   \n",
       "327     4017    The Subtle Knife (His Dark Materials, Book 2)          10   \n",
       "\n",
       "      RatingCount  \n",
       "206             5  \n",
       "207             5  \n",
       "208             5  \n",
       "209             5  \n",
       "210             5  \n",
       "4051            4  \n",
       "1047            4  \n",
       "1045            4  \n",
       "4052            4  \n",
       "4053            4  \n",
       "4054            4  \n",
       "701             4  \n",
       "1046            4  \n",
       "700             4  \n",
       "699             4  \n",
       "702             4  \n",
       "320             4  \n",
       "6494            4  \n",
       "1048            4  \n",
       "327             4  "
      ]
     },
     "execution_count": 62,
     "metadata": {},
     "output_type": "execute_result"
    }
   ],
   "source": [
    "#Top20 highest number of time rated book\n",
    "rating_count = book.groupby('BookTitle')['BookRating'].count().to_frame()\n",
    "rating_count.rename(columns={'BookRating':'RatingCount'}, inplace=True)\n",
    "data = book.merge(rating_count, on='BookTitle', how='inner')\n",
    "m = rating_count.quantile(.9) # trim threshols number\n",
    "q_books = data.copy().loc[data['RatingCount'] >= m[0]]\n",
    "dataplot=q_books.sort_values(by=\"RatingCount\",ascending=False)[0:20]"
   ]
  },
  {
   "cell_type": "code",
   "execution_count": 61,
   "metadata": {},
   "outputs": [
    {
     "data": {
      "text/plain": [
       "<matplotlib.axes._subplots.AxesSubplot at 0x2c409ca0e08>"
      ]
     },
     "execution_count": 61,
     "metadata": {},
     "output_type": "execute_result"
    },
    {
     "data": {
      "image/png": "[encoded data removed]",
      "text/plain": [
       "<Figure size 432x288 with 1 Axes>"
      ]
     },
     "metadata": {
      "needs_background": "light"
     },
     "output_type": "display_data"
    }
   ],
   "source": [
    "sns.barplot(y=\"BookTitle\",x=\"RatingCount\",data=dataplot)"
   ]
  },
  {
   "cell_type": "code",
   "execution_count": 63,
   "metadata": {},
   "outputs": [],
   "source": [
    "from sklearn.feature_extraction.text import TfidfVectorizer\n",
    "\n",
    "tfidf= TfidfVectorizer(stop_words=\"english\")\n"
   ]
  },
  {
   "cell_type": "code",
   "execution_count": 64,
   "metadata": {},
   "outputs": [
    {
     "data": {
      "text/plain": [
       "0"
      ]
     },
     "execution_count": 64,
     "metadata": {},
     "output_type": "execute_result"
    }
   ],
   "source": [
    "book[\"BookTitle\"].isnull().sum()"
   ]
  },
  {
   "cell_type": "code",
   "execution_count": 106,
   "metadata": {},
   "outputs": [
    {
     "data": {
      "text/html": [
       "<div>\n",
       "<style scoped>\n",
       "    .dataframe tbody tr th:only-of-type {\n",
       "        vertical-align: middle;\n",
       "    }\n",
       "\n",
       "    .dataframe tbody tr th {\n",
       "        vertical-align: top;\n",
       "    }\n",
       "\n",
       "    .dataframe thead th {\n",
       "        text-align: right;\n",
       "    }\n",
       "</style>\n",
       "<table border=\"1\" class=\"dataframe\">\n",
       "  <thead>\n",
       "    <tr style=\"text-align: right;\">\n",
       "      <th></th>\n",
       "      <th>UserID</th>\n",
       "      <th>BookTitle</th>\n",
       "      <th>BookRating</th>\n",
       "    </tr>\n",
       "  </thead>\n",
       "  <tbody>\n",
       "    <tr>\n",
       "      <td>0</td>\n",
       "      <td>276726</td>\n",
       "      <td>classical mythology</td>\n",
       "      <td>5</td>\n",
       "    </tr>\n",
       "    <tr>\n",
       "      <td>1</td>\n",
       "      <td>276729</td>\n",
       "      <td>clara callan</td>\n",
       "      <td>3</td>\n",
       "    </tr>\n",
       "    <tr>\n",
       "      <td>2</td>\n",
       "      <td>276729</td>\n",
       "      <td>decision in normandy</td>\n",
       "      <td>6</td>\n",
       "    </tr>\n",
       "    <tr>\n",
       "      <td>3</td>\n",
       "      <td>276736</td>\n",
       "      <td>flu: the story of the great influenza pandemic...</td>\n",
       "      <td>8</td>\n",
       "    </tr>\n",
       "    <tr>\n",
       "      <td>4</td>\n",
       "      <td>276737</td>\n",
       "      <td>the mummies of urumchi</td>\n",
       "      <td>6</td>\n",
       "    </tr>\n",
       "    <tr>\n",
       "      <td>...</td>\n",
       "      <td>...</td>\n",
       "      <td>...</td>\n",
       "      <td>...</td>\n",
       "    </tr>\n",
       "    <tr>\n",
       "      <td>9633</td>\n",
       "      <td>162121</td>\n",
       "      <td>american fried: adventures of a happy eater.</td>\n",
       "      <td>7</td>\n",
       "    </tr>\n",
       "    <tr>\n",
       "      <td>9634</td>\n",
       "      <td>162121</td>\n",
       "      <td>cannibal in manhattan</td>\n",
       "      <td>9</td>\n",
       "    </tr>\n",
       "    <tr>\n",
       "      <td>9635</td>\n",
       "      <td>162121</td>\n",
       "      <td>how to flirt: a practical guide</td>\n",
       "      <td>7</td>\n",
       "    </tr>\n",
       "    <tr>\n",
       "      <td>9636</td>\n",
       "      <td>162121</td>\n",
       "      <td>twilight</td>\n",
       "      <td>8</td>\n",
       "    </tr>\n",
       "    <tr>\n",
       "      <td>9637</td>\n",
       "      <td>162129</td>\n",
       "      <td>kids say the darndest things</td>\n",
       "      <td>6</td>\n",
       "    </tr>\n",
       "  </tbody>\n",
       "</table>\n",
       "<p>9638 rows × 3 columns</p>\n",
       "</div>"
      ],
      "text/plain": [
       "      UserID                                          BookTitle  BookRating\n",
       "0     276726                                classical mythology           5\n",
       "1     276729                                       clara callan           3\n",
       "2     276729                               decision in normandy           6\n",
       "3     276736  flu: the story of the great influenza pandemic...           8\n",
       "4     276737                             the mummies of urumchi           6\n",
       "...      ...                                                ...         ...\n",
       "9633  162121       american fried: adventures of a happy eater.           7\n",
       "9634  162121                              cannibal in manhattan           9\n",
       "9635  162121                    how to flirt: a practical guide           7\n",
       "9636  162121                                           twilight           8\n",
       "9637  162129                       kids say the darndest things           6\n",
       "\n",
       "[9638 rows x 3 columns]"
      ]
     },
     "execution_count": 106,
     "metadata": {},
     "output_type": "execute_result"
    }
   ],
   "source": [
    "book['BookTitle']=book['BookTitle'].str.lower()\n",
    "book_1=book.drop_duplicates(subset='BookTitle',keep='first').reset_index(drop=True)\n",
    "book_1"
   ]
  },
  {
   "cell_type": "code",
   "execution_count": 107,
   "metadata": {},
   "outputs": [
    {
     "data": {
      "text/plain": [
       "toilet learning : the picture book technique for children and parents                             1\n",
       "diagnostic and statistical manual of mental disorders dsm-iv-tr (text revision)                   1\n",
       "portfolios of ansel adams                                                                         1\n",
       "wedding day murder: a lucy stone mystery (meier, leslie. lucy stone mystery.)                     1\n",
       "the bible code                                                                                    1\n",
       "                                                                                                 ..\n",
       "ingathering: the complete people stories of zenna henderson                                       1\n",
       "ozarks: the hills are alive with small towns and big hearts revealed in four complete romances    1\n",
       "specter of the past (star wars: the hand of thrawn, book one)                                     1\n",
       "los espejos venecianos                                                                            1\n",
       "if life is a bowl of cherries what am i doing in the pits                                         1\n",
       "Name: BookTitle, Length: 9638, dtype: int64"
      ]
     },
     "execution_count": 107,
     "metadata": {},
     "output_type": "execute_result"
    }
   ],
   "source": [
    "book_1['BookTitle'].value_counts()"
   ]
  },
  {
   "cell_type": "code",
   "execution_count": 108,
   "metadata": {},
   "outputs": [
    {
     "data": {
      "text/plain": [
       "(9638, 11435)"
      ]
     },
     "execution_count": 108,
     "metadata": {},
     "output_type": "execute_result"
    }
   ],
   "source": [
    "tfidf_matrix = tfidf.fit_transform(book_1.BookTitle)\n",
    "tfidf_matrix.shape"
   ]
  },
  {
   "cell_type": "code",
   "execution_count": 109,
   "metadata": {},
   "outputs": [],
   "source": [
    "from sklearn.metrics.pairwise import linear_kernel\n",
    "\n",
    "cos_sim_matrix= linear_kernel(tfidf_matrix,tfidf_matrix)\n"
   ]
  },
  {
   "cell_type": "code",
   "execution_count": 110,
   "metadata": {},
   "outputs": [],
   "source": [
    "#Creating the mapping of Index to BooK Title\n",
    "Bindex=pd.Series(book_1.index,index=book_1['BookTitle']).drop_duplicates()"
   ]
  },
  {
   "cell_type": "code",
   "execution_count": 116,
   "metadata": {},
   "outputs": [],
   "source": [
    "def get_book_recommendation (Name,topN):\n",
    "    Name=Name.lower()\n",
    "    B_id=Bindex[Name]\n",
    "    \n",
    "    cosine_scores = list(enumerate(cos_sim_matrix[B_id]))\n",
    "    \n",
    "    cosine_scores = sorted(cosine_scores,key=lambda x:x[1],reverse = True)\n",
    "     \n",
    "    cosine_scores_10 = cosine_scores[0:topN+1]\n",
    "    \n",
    "    B_idx  =  [i[0] for i in cosine_scores_10]\n",
    "    B_scores =  [i[1] for i in cosine_scores_10]\n",
    "    \n",
    "     \n",
    "    B_similar_show = pd.DataFrame(columns=[\"name\",\"Score\"])\n",
    "    B_similar_show[\"name\"] = book_1.loc[B_idx,\"BookTitle\"]\n",
    "    B_similar_show[\"name\"]= B_similar_show[\"name\"].str.upper()\n",
    "    B_similar_show[\"Score\"] = B_scores\n",
    "    B_similar_show.reset_index(inplace=True)  \n",
    "    B_similar_show.drop([\"index\"],axis=1,inplace=True)\n",
    "    print (B_similar_show)"
   ]
  },
  {
   "cell_type": "code",
   "execution_count": 117,
   "metadata": {},
   "outputs": [
    {
     "name": "stdout",
     "output_type": "stream",
     "text": [
      "                                                 name     Score\n",
      "0                                     PLEADING GUILTY  1.000000\n",
      "1                                       GUILTY AS SIN  0.509092\n",
      "2   GUILTY PLEASURES (ANITA BLAKE VAMPIRE HUNTER (...  0.287001\n",
      "3                                 CLASSICAL MYTHOLOGY  0.000000\n",
      "4                                        CLARA CALLAN  0.000000\n",
      "5                                DECISION IN NORMANDY  0.000000\n",
      "6   FLU: THE STORY OF THE GREAT INFLUENZA PANDEMIC...  0.000000\n",
      "7                              THE MUMMIES OF URUMCHI  0.000000\n",
      "8                              THE KITCHEN GOD'S WIFE  0.000000\n",
      "9   WHAT IF?: THE WORLD'S FOREMOST MILITARY HISTOR...  0.000000\n",
      "10  UNDER THE BLACK FLAG: THE ROMANCE AND THE REAL...  0.000000\n",
      "11            WHERE YOU'LL FIND ME: AND OTHER STORIES  0.000000\n",
      "12                        NIGHTS BELOW STATION STREET  0.000000\n",
      "13  HITLER'S SECRET BANKERS: THE MYTH OF SWISS NEU...  0.000000\n",
      "14                                 THE MIDDLE STORIES  0.000000\n",
      "15                                           JANE DOE  0.000000\n"
     ]
    }
   ],
   "source": [
    "get_book_recommendation(\"PLEADING GUILTY\",topN=15)"
   ]
  },
  {
   "cell_type": "code",
   "execution_count": null,
   "metadata": {},
   "outputs": [],
   "source": []
  }
 ],
 "metadata": {
  "kernelspec": {
   "display_name": "Python 3",
   "language": "python",
   "name": "python3"
  },
  "language_info": {
   "codemirror_mode": {
    "name": "ipython",
    "version": 3
   },
   "file_extension": ".py",
   "mimetype": "text/x-python",
   "name": "python",
   "nbconvert_exporter": "python",
   "pygments_lexer": "ipython3",
   "version": "3.7.4"
  }
 },
 "nbformat": 4,
 "nbformat_minor": 2
}
